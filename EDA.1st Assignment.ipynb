{
 "cells": [
  {
   "cell_type": "code",
   "execution_count": 1,
   "metadata": {},
   "outputs": [],
   "source": [
    "\n",
    "#Ödev1\n",
    "\n",
    "# veriden dogru öngöruler cıkarabilmek için analiz yapılması gerekir.\n",
    "# veride anomali değerler var mı? Veri beni dogru insighlara yonlendirecek bir butunlukte mi?\n",
    "# veriyi anlamlandırabileceğim ortak özellikler var mı? sorularına cevap bulma sürecidir.\n"
   ]
  },
  {
   "cell_type": "code",
   "execution_count": 2,
   "metadata": {},
   "outputs": [],
   "source": [
    "# a-- Skorlanmayan degerler bulunması\n",
    "#  -- int/str farklılıkları\n",
    "#  -- Yorum olumlu iken skorun dusuk verilmesi ya da tam tersi"
   ]
  },
  {
   "cell_type": "code",
   "execution_count": 3,
   "metadata": {},
   "outputs": [],
   "source": [
    "# b-- Düsük ve yüksek skorlardaki ortak degerleri/kelimeleri belirleme\n",
    "#  -- Ürüne verilen skorların karsılaştırılması\n",
    "#  -- Düşük ya da yüksek puan verilen ürünlerin fiyat aralığı"
   ]
  },
  {
   "cell_type": "code",
   "execution_count": 4,
   "metadata": {},
   "outputs": [],
   "source": [
    "# fiyat,marka, ürün de iyi skorlanan ürünleri one cıkarabiliriz.\n",
    "#hizmeti geliştirmek için servis/logistik konularında yapılan yorumlaro goz onunde bulundurup \n",
    "#musteri memnunıyetını yukseltmeye calısırım"
   ]
  },
  {
   "cell_type": "code",
   "execution_count": null,
   "metadata": {},
   "outputs": [],
   "source": []
  }
 ],
 "metadata": {
  "kernelspec": {
   "display_name": "Python 3",
   "language": "python",
   "name": "python3"
  },
  "language_info": {
   "codemirror_mode": {
    "name": "ipython",
    "version": 3
   },
   "file_extension": ".py",
   "mimetype": "text/x-python",
   "name": "python",
   "nbconvert_exporter": "python",
   "pygments_lexer": "ipython3",
   "version": "3.7.6"
  }
 },
 "nbformat": 4,
 "nbformat_minor": 4
}
