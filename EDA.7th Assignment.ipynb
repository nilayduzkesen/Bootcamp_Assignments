{
 "cells": [
  {
   "cell_type": "code",
   "execution_count": 1,
   "metadata": {},
   "outputs": [],
   "source": [
    "\n",
    "import matplotlib.pyplot as plt\n",
    "import seaborn as sns\n",
    "import numpy as np\n",
    "import pandas as pd\n",
    "import seaborn as sns\n",
    "import scipy.stats as stats\n",
    "from scipy.stats.mstats import winsorize\n",
    "import warnings\n",
    "\n",
    "warnings.filterwarnings('ignore')\n",
    "sns.set(style=\"whitegrid\")"
   ]
  },
  {
   "cell_type": "code",
   "execution_count": 2,
   "metadata": {},
   "outputs": [
    {
     "data": {
      "text/html": [
       "<div>\n",
       "<style scoped>\n",
       "    .dataframe tbody tr th:only-of-type {\n",
       "        vertical-align: middle;\n",
       "    }\n",
       "\n",
       "    .dataframe tbody tr th {\n",
       "        vertical-align: top;\n",
       "    }\n",
       "\n",
       "    .dataframe thead th {\n",
       "        text-align: right;\n",
       "    }\n",
       "</style>\n",
       "<table border=\"1\" class=\"dataframe\">\n",
       "  <thead>\n",
       "    <tr style=\"text-align: right;\">\n",
       "      <th></th>\n",
       "      <th>gender</th>\n",
       "      <th>race/ethnicity</th>\n",
       "      <th>parental level of education</th>\n",
       "      <th>lunch</th>\n",
       "      <th>test preparation course</th>\n",
       "      <th>math score</th>\n",
       "      <th>reading score</th>\n",
       "      <th>writing score</th>\n",
       "    </tr>\n",
       "  </thead>\n",
       "  <tbody>\n",
       "    <tr>\n",
       "      <th>0</th>\n",
       "      <td>female</td>\n",
       "      <td>group B</td>\n",
       "      <td>bachelor's degree</td>\n",
       "      <td>standard</td>\n",
       "      <td>none</td>\n",
       "      <td>72</td>\n",
       "      <td>72</td>\n",
       "      <td>74</td>\n",
       "    </tr>\n",
       "    <tr>\n",
       "      <th>1</th>\n",
       "      <td>female</td>\n",
       "      <td>group C</td>\n",
       "      <td>some college</td>\n",
       "      <td>standard</td>\n",
       "      <td>completed</td>\n",
       "      <td>69</td>\n",
       "      <td>90</td>\n",
       "      <td>88</td>\n",
       "    </tr>\n",
       "    <tr>\n",
       "      <th>2</th>\n",
       "      <td>female</td>\n",
       "      <td>group B</td>\n",
       "      <td>master's degree</td>\n",
       "      <td>standard</td>\n",
       "      <td>none</td>\n",
       "      <td>90</td>\n",
       "      <td>95</td>\n",
       "      <td>93</td>\n",
       "    </tr>\n",
       "    <tr>\n",
       "      <th>3</th>\n",
       "      <td>male</td>\n",
       "      <td>group A</td>\n",
       "      <td>associate's degree</td>\n",
       "      <td>free/reduced</td>\n",
       "      <td>none</td>\n",
       "      <td>47</td>\n",
       "      <td>57</td>\n",
       "      <td>44</td>\n",
       "    </tr>\n",
       "    <tr>\n",
       "      <th>4</th>\n",
       "      <td>male</td>\n",
       "      <td>group C</td>\n",
       "      <td>some college</td>\n",
       "      <td>standard</td>\n",
       "      <td>none</td>\n",
       "      <td>76</td>\n",
       "      <td>78</td>\n",
       "      <td>75</td>\n",
       "    </tr>\n",
       "    <tr>\n",
       "      <th>...</th>\n",
       "      <td>...</td>\n",
       "      <td>...</td>\n",
       "      <td>...</td>\n",
       "      <td>...</td>\n",
       "      <td>...</td>\n",
       "      <td>...</td>\n",
       "      <td>...</td>\n",
       "      <td>...</td>\n",
       "    </tr>\n",
       "    <tr>\n",
       "      <th>995</th>\n",
       "      <td>female</td>\n",
       "      <td>group E</td>\n",
       "      <td>master's degree</td>\n",
       "      <td>standard</td>\n",
       "      <td>completed</td>\n",
       "      <td>88</td>\n",
       "      <td>99</td>\n",
       "      <td>95</td>\n",
       "    </tr>\n",
       "    <tr>\n",
       "      <th>996</th>\n",
       "      <td>male</td>\n",
       "      <td>group C</td>\n",
       "      <td>high school</td>\n",
       "      <td>free/reduced</td>\n",
       "      <td>none</td>\n",
       "      <td>62</td>\n",
       "      <td>55</td>\n",
       "      <td>55</td>\n",
       "    </tr>\n",
       "    <tr>\n",
       "      <th>997</th>\n",
       "      <td>female</td>\n",
       "      <td>group C</td>\n",
       "      <td>high school</td>\n",
       "      <td>free/reduced</td>\n",
       "      <td>completed</td>\n",
       "      <td>59</td>\n",
       "      <td>71</td>\n",
       "      <td>65</td>\n",
       "    </tr>\n",
       "    <tr>\n",
       "      <th>998</th>\n",
       "      <td>female</td>\n",
       "      <td>group D</td>\n",
       "      <td>some college</td>\n",
       "      <td>standard</td>\n",
       "      <td>completed</td>\n",
       "      <td>68</td>\n",
       "      <td>78</td>\n",
       "      <td>77</td>\n",
       "    </tr>\n",
       "    <tr>\n",
       "      <th>999</th>\n",
       "      <td>female</td>\n",
       "      <td>group D</td>\n",
       "      <td>some college</td>\n",
       "      <td>free/reduced</td>\n",
       "      <td>none</td>\n",
       "      <td>77</td>\n",
       "      <td>86</td>\n",
       "      <td>86</td>\n",
       "    </tr>\n",
       "  </tbody>\n",
       "</table>\n",
       "<p>1000 rows × 8 columns</p>\n",
       "</div>"
      ],
      "text/plain": [
       "     gender race/ethnicity parental level of education         lunch  \\\n",
       "0    female        group B           bachelor's degree      standard   \n",
       "1    female        group C                some college      standard   \n",
       "2    female        group B             master's degree      standard   \n",
       "3      male        group A          associate's degree  free/reduced   \n",
       "4      male        group C                some college      standard   \n",
       "..      ...            ...                         ...           ...   \n",
       "995  female        group E             master's degree      standard   \n",
       "996    male        group C                 high school  free/reduced   \n",
       "997  female        group C                 high school  free/reduced   \n",
       "998  female        group D                some college      standard   \n",
       "999  female        group D                some college  free/reduced   \n",
       "\n",
       "    test preparation course  math score  reading score  writing score  \n",
       "0                      none          72             72             74  \n",
       "1                 completed          69             90             88  \n",
       "2                      none          90             95             93  \n",
       "3                      none          47             57             44  \n",
       "4                      none          76             78             75  \n",
       "..                      ...         ...            ...            ...  \n",
       "995               completed          88             99             95  \n",
       "996                    none          62             55             55  \n",
       "997               completed          59             71             65  \n",
       "998               completed          68             78             77  \n",
       "999                    none          77             86             86  \n",
       "\n",
       "[1000 rows x 8 columns]"
      ]
     },
     "execution_count": 2,
     "metadata": {},
     "output_type": "execute_result"
    }
   ],
   "source": [
    "data = pd.read_csv('StudentsPerformance.csv')\n",
    "data"
   ]
  },
  {
   "cell_type": "markdown",
   "metadata": {},
   "source": [
    "# ODEV 1\n",
    "#Sınav sonuçları normal dağılımlı mıdır? Değilse normal dağılıma sahip hale getirmek için ne yapabiliriz?\n",
    "\n"
   ]
  },
  {
   "cell_type": "code",
   "execution_count": 7,
   "metadata": {},
   "outputs": [
    {
     "data": {
      "image/png": "[encoded data removed]",
      "text/plain": [
       "<Figure size 1296x360 with 3 Axes>"
      ]
     },
     "metadata": {},
     "output_type": "display_data"
    }
   ],
   "source": [
    "plt.figure(figsize = (18,5))\n",
    "\n",
    "plt.subplot(1,3,1)\n",
    "plt.hist(data['math score'], bins = 20)\n",
    "plt.title('Matematik')\n",
    "\n",
    "plt.subplot(1,3,2)\n",
    "plt.hist(data['reading score'], bins = 20)\n",
    "plt.title('Okuma')\n",
    "\n",
    "plt.subplot(1,3,3)\n",
    "plt.hist(data['writing score'], bins = 20)\n",
    "plt.title('Yazma')\n",
    "\n",
    "plt.show()"
   ]
  },
  {
   "cell_type": "markdown",
   "metadata": {},
   "source": [
    "Normal dagılıma yakın gorunuyor fakat bunu test etmek için jarque_bera ve normaltest uygulayalım\n",
    "\n"
   ]
  },
  {
   "cell_type": "code",
   "execution_count": 14,
   "metadata": {},
   "outputs": [
    {
     "data": {
      "text/html": [
       "<div>\n",
       "<style scoped>\n",
       "    .dataframe tbody tr th:only-of-type {\n",
       "        vertical-align: middle;\n",
       "    }\n",
       "\n",
       "    .dataframe tbody tr th {\n",
       "        vertical-align: top;\n",
       "    }\n",
       "\n",
       "    .dataframe thead th {\n",
       "        text-align: right;\n",
       "    }\n",
       "</style>\n",
       "<table border=\"1\" class=\"dataframe\">\n",
       "  <thead>\n",
       "    <tr style=\"text-align: right;\">\n",
       "      <th></th>\n",
       "      <th>ozellik</th>\n",
       "      <th>jarque_bera_stats</th>\n",
       "      <th>jarque_bera_p_value</th>\n",
       "      <th>normal_stats</th>\n",
       "      <th>normal_p_value</th>\n",
       "    </tr>\n",
       "  </thead>\n",
       "  <tbody>\n",
       "    <tr>\n",
       "      <th>0</th>\n",
       "      <td>math score</td>\n",
       "      <td>15.91226</td>\n",
       "      <td>0.00035</td>\n",
       "      <td>15.40896</td>\n",
       "      <td>0.00045</td>\n",
       "    </tr>\n",
       "    <tr>\n",
       "      <th>1</th>\n",
       "      <td>reading score</td>\n",
       "      <td>11.38330</td>\n",
       "      <td>0.00337</td>\n",
       "      <td>11.11741</td>\n",
       "      <td>0.00385</td>\n",
       "    </tr>\n",
       "    <tr>\n",
       "      <th>2</th>\n",
       "      <td>writing score</td>\n",
       "      <td>13.98509</td>\n",
       "      <td>0.00092</td>\n",
       "      <td>13.60645</td>\n",
       "      <td>0.00111</td>\n",
       "    </tr>\n",
       "  </tbody>\n",
       "</table>\n",
       "</div>"
      ],
      "text/plain": [
       "         ozellik  jarque_bera_stats  jarque_bera_p_value  normal_stats  \\\n",
       "0     math score           15.91226              0.00035      15.40896   \n",
       "1  reading score           11.38330              0.00337      11.11741   \n",
       "2  writing score           13.98509              0.00092      13.60645   \n",
       "\n",
       "   normal_p_value  \n",
       "0         0.00045  \n",
       "1         0.00385  \n",
       "2         0.00111  "
      ]
     },
     "execution_count": 14,
     "metadata": {},
     "output_type": "execute_result"
    }
   ],
   "source": [
    "from scipy.stats import jarque_bera\n",
    "from scipy.stats import normaltest\n",
    "\n",
    "pd.options.display.float_format = '{:.5f}'.format\n",
    "\n",
    "ozellikler = [\"math score\", \"reading score\", \"writing score\"]\n",
    "dagilim_testleri = pd.DataFrame(columns=['ozellik', 'jarque_bera_stats', 'jarque_bera_p_value', \n",
    "                                         'normal_stats', 'normal_p_value'])\n",
    "\n",
    "for ozellik in ozellikler:\n",
    "    jb_stats = jarque_bera(data[ozellik])\n",
    "    norm_stats = normaltest(data[ozellik])\n",
    "    dagilim_testleri = dagilim_testleri.append({\"ozellik\": ozellik,\n",
    "                                                \"jarque_bera_stats\" : jb_stats[0] ,\n",
    "                                                \"jarque_bera_p_value\" : jb_stats[1] ,\n",
    "                                                \"normal_stats\": norm_stats[0] , \n",
    "                                                \"normal_p_value\" : norm_stats[1]\n",
    "                                               }, ignore_index=True)\n",
    "dagilim_testleri"
   ]
  },
  {
   "cell_type": "code",
   "execution_count": 15,
   "metadata": {},
   "outputs": [
    {
     "data": {
      "text/html": [
       "<div>\n",
       "<style scoped>\n",
       "    .dataframe tbody tr th:only-of-type {\n",
       "        vertical-align: middle;\n",
       "    }\n",
       "\n",
       "    .dataframe tbody tr th {\n",
       "        vertical-align: top;\n",
       "    }\n",
       "\n",
       "    .dataframe thead th {\n",
       "        text-align: right;\n",
       "    }\n",
       "</style>\n",
       "<table border=\"1\" class=\"dataframe\">\n",
       "  <thead>\n",
       "    <tr style=\"text-align: right;\">\n",
       "      <th></th>\n",
       "      <th>ozellik</th>\n",
       "      <th>jarque_bera_stats</th>\n",
       "      <th>jarque_bera_p_value</th>\n",
       "      <th>normal_stats</th>\n",
       "      <th>normal_p_value</th>\n",
       "    </tr>\n",
       "  </thead>\n",
       "  <tbody>\n",
       "    <tr>\n",
       "      <th>0</th>\n",
       "      <td>math score</td>\n",
       "      <td>nan</td>\n",
       "      <td>nan</td>\n",
       "      <td>nan</td>\n",
       "      <td>nan</td>\n",
       "    </tr>\n",
       "    <tr>\n",
       "      <th>1</th>\n",
       "      <td>reading score</td>\n",
       "      <td>495.12732</td>\n",
       "      <td>0.00000</td>\n",
       "      <td>209.77151</td>\n",
       "      <td>0.00000</td>\n",
       "    </tr>\n",
       "    <tr>\n",
       "      <th>2</th>\n",
       "      <td>writing score</td>\n",
       "      <td>1410.93701</td>\n",
       "      <td>0.00000</td>\n",
       "      <td>318.96921</td>\n",
       "      <td>0.00000</td>\n",
       "    </tr>\n",
       "  </tbody>\n",
       "</table>\n",
       "</div>"
      ],
      "text/plain": [
       "         ozellik  jarque_bera_stats  jarque_bera_p_value  normal_stats  \\\n",
       "0     math score                nan                  nan           nan   \n",
       "1  reading score          495.12732              0.00000     209.77151   \n",
       "2  writing score         1410.93701              0.00000     318.96921   \n",
       "\n",
       "   normal_p_value  \n",
       "0             nan  \n",
       "1         0.00000  \n",
       "2         0.00000  "
      ]
     },
     "execution_count": 15,
     "metadata": {},
     "output_type": "execute_result"
    }
   ],
   "source": [
    "from scipy.stats import jarque_bera\n",
    "from scipy.stats import normaltest\n",
    "\n",
    "pd.options.display.float_format = '{:.5f}'.format\n",
    "\n",
    "ozellikler = [\"math score\", \"reading score\", \"writing score\"]\n",
    "dagilim_testleri = pd.DataFrame(columns=['ozellik', 'jarque_bera_stats', 'jarque_bera_p_value', \n",
    "                                         'normal_stats', 'normal_p_value'])\n",
    "\n",
    "for ozellik in ozellikler:\n",
    "    jb_stats = jarque_bera(np.log(data[ozellik]))\n",
    "    norm_stats = normaltest(np.log(data[ozellik]))\n",
    "    dagilim_testleri = dagilim_testleri.append({\"ozellik\": ozellik,\n",
    "                                                \"jarque_bera_stats\" : jb_stats[0] ,\n",
    "                                                \"jarque_bera_p_value\" : jb_stats[1] ,\n",
    "                                                \"normal_stats\": norm_stats[0] , \n",
    "                                                \"normal_p_value\" : norm_stats[1]\n",
    "                                               }, ignore_index=True)\n",
    "dagilim_testleri"
   ]
  },
  {
   "cell_type": "code",
   "execution_count": 17,
   "metadata": {},
   "outputs": [
    {
     "data": {
      "image/png": "[encoded data removed]",
      "text/plain": [
       "<Figure size 864x360 with 2 Axes>"
      ]
     },
     "metadata": {},
     "output_type": "display_data"
    }
   ],
   "source": [
    "plt.figure(figsize = (12,5))\n",
    "\n",
    "\n",
    "plt.subplot(1,2,1)\n",
    "plt.hist(np.log(data['reading score']), bins = 20)\n",
    "plt.title('Okuma')\n",
    "\n",
    "plt.subplot(1,2,2)\n",
    "plt.hist(np.log(data['writing score']), bins = 20)\n",
    "plt.title('Yazma')\n",
    "\n",
    "plt.show()"
   ]
  },
  {
   "cell_type": "code",
   "execution_count": 40,
   "metadata": {},
   "outputs": [
    {
     "data": {
      "text/html": [
       "<div>\n",
       "<style scoped>\n",
       "    .dataframe tbody tr th:only-of-type {\n",
       "        vertical-align: middle;\n",
       "    }\n",
       "\n",
       "    .dataframe tbody tr th {\n",
       "        vertical-align: top;\n",
       "    }\n",
       "\n",
       "    .dataframe thead th {\n",
       "        text-align: right;\n",
       "    }\n",
       "</style>\n",
       "<table border=\"1\" class=\"dataframe\">\n",
       "  <thead>\n",
       "    <tr style=\"text-align: right;\">\n",
       "      <th></th>\n",
       "      <th>gender</th>\n",
       "      <th>race/ethnicity</th>\n",
       "      <th>parental level of education</th>\n",
       "      <th>lunch</th>\n",
       "      <th>test preparation course</th>\n",
       "      <th>math score</th>\n",
       "      <th>reading score</th>\n",
       "      <th>writing score</th>\n",
       "    </tr>\n",
       "  </thead>\n",
       "  <tbody>\n",
       "  </tbody>\n",
       "</table>\n",
       "</div>"
      ],
      "text/plain": [
       "Empty DataFrame\n",
       "Columns: [gender, race/ethnicity, parental level of education, lunch, test preparation course, math score, reading score, writing score]\n",
       "Index: []"
      ]
     },
     "execution_count": 40,
     "metadata": {},
     "output_type": "execute_result"
    }
   ],
   "source": [
    "x = data[data['math score'] == 0]\n",
    "x"
   ]
  },
  {
   "cell_type": "code",
   "execution_count": 39,
   "metadata": {},
   "outputs": [
    {
     "data": {
      "text/plain": [
       "66.089"
      ]
     },
     "execution_count": 39,
     "metadata": {},
     "output_type": "execute_result"
    }
   ],
   "source": [
    "data.loc[data['math score'] == 0, 'math score'] = data['math score'].mean()\n",
    "data['math score'][59]"
   ]
  },
  {
   "cell_type": "code",
   "execution_count": 41,
   "metadata": {},
   "outputs": [
    {
     "data": {
      "image/png": "[encoded data removed]",
      "text/plain": [
       "<Figure size 1296x360 with 3 Axes>"
      ]
     },
     "metadata": {},
     "output_type": "display_data"
    }
   ],
   "source": [
    "plt.figure(figsize = (18,5))\n",
    "\n",
    "\n",
    "plt.subplot(1,3,1)\n",
    "plt.hist(np.log(data['math score']), bins = 20)\n",
    "plt.title('Matematik')\n",
    "\n",
    "plt.subplot(1,3,2)\n",
    "plt.hist(np.log(data['reading score']), bins = 20)\n",
    "plt.title('Okuma')\n",
    "\n",
    "plt.subplot(1,3,3)\n",
    "plt.hist(np.log(data['writing score']), bins = 20)\n",
    "plt.title('Yazma')\n",
    "\n",
    "plt.show()"
   ]
  },
  {
   "cell_type": "markdown",
   "metadata": {},
   "source": [
    "Şimdi bu logları test edelim:\n"
   ]
  },
  {
   "cell_type": "code",
   "execution_count": 42,
   "metadata": {},
   "outputs": [
    {
     "data": {
      "text/html": [
       "<div>\n",
       "<style scoped>\n",
       "    .dataframe tbody tr th:only-of-type {\n",
       "        vertical-align: middle;\n",
       "    }\n",
       "\n",
       "    .dataframe tbody tr th {\n",
       "        vertical-align: top;\n",
       "    }\n",
       "\n",
       "    .dataframe thead th {\n",
       "        text-align: right;\n",
       "    }\n",
       "</style>\n",
       "<table border=\"1\" class=\"dataframe\">\n",
       "  <thead>\n",
       "    <tr style=\"text-align: right;\">\n",
       "      <th></th>\n",
       "      <th>ozellik</th>\n",
       "      <th>jarque_bera_stats</th>\n",
       "      <th>jarque_bera_p_value</th>\n",
       "      <th>normal_stats</th>\n",
       "      <th>normal_p_value</th>\n",
       "    </tr>\n",
       "  </thead>\n",
       "  <tbody>\n",
       "    <tr>\n",
       "      <th>0</th>\n",
       "      <td>math score</td>\n",
       "      <td>1740.23098</td>\n",
       "      <td>0.00000</td>\n",
       "      <td>335.75475</td>\n",
       "      <td>0.00000</td>\n",
       "    </tr>\n",
       "    <tr>\n",
       "      <th>1</th>\n",
       "      <td>reading score</td>\n",
       "      <td>495.12732</td>\n",
       "      <td>0.00000</td>\n",
       "      <td>209.77151</td>\n",
       "      <td>0.00000</td>\n",
       "    </tr>\n",
       "    <tr>\n",
       "      <th>2</th>\n",
       "      <td>writing score</td>\n",
       "      <td>1410.93701</td>\n",
       "      <td>0.00000</td>\n",
       "      <td>318.96921</td>\n",
       "      <td>0.00000</td>\n",
       "    </tr>\n",
       "  </tbody>\n",
       "</table>\n",
       "</div>"
      ],
      "text/plain": [
       "         ozellik  jarque_bera_stats  jarque_bera_p_value  normal_stats  \\\n",
       "0     math score         1740.23098              0.00000     335.75475   \n",
       "1  reading score          495.12732              0.00000     209.77151   \n",
       "2  writing score         1410.93701              0.00000     318.96921   \n",
       "\n",
       "   normal_p_value  \n",
       "0         0.00000  \n",
       "1         0.00000  \n",
       "2         0.00000  "
      ]
     },
     "execution_count": 42,
     "metadata": {},
     "output_type": "execute_result"
    }
   ],
   "source": [
    "from scipy.stats import jarque_bera\n",
    "from scipy.stats import normaltest\n",
    "\n",
    "pd.options.display.float_format = '{:.5f}'.format\n",
    "\n",
    "ozellikler = [\"math score\", \"reading score\", \"writing score\"]\n",
    "dagilim_testleri = pd.DataFrame(columns=['ozellik', 'jarque_bera_stats', 'jarque_bera_p_value', \n",
    "                                         'normal_stats', 'normal_p_value'])\n",
    "\n",
    "for ozellik in ozellikler:\n",
    "    jb_stats = jarque_bera(np.log(data[ozellik]))\n",
    "    norm_stats = normaltest(np.log(data[ozellik]))\n",
    "    dagilim_testleri = dagilim_testleri.append({\"ozellik\": ozellik,\n",
    "                                                \"jarque_bera_stats\" : jb_stats[0] ,\n",
    "                                                \"jarque_bera_p_value\" : jb_stats[1] ,\n",
    "                                                \"normal_stats\": norm_stats[0] , \n",
    "                                                \"normal_p_value\" : norm_stats[1]\n",
    "                                               }, ignore_index=True)\n",
    "dagilim_testleri"
   ]
  },
  {
   "cell_type": "markdown",
   "metadata": {},
   "source": [
    "Değerler yine normal dağılımı göstermiyor, p value sıfır geldi.\n",
    "## Normallestirme ve standartlastırma yapacagız"
   ]
  },
  {
   "cell_type": "code",
   "execution_count": 44,
   "metadata": {},
   "outputs": [
    {
     "name": "stdout",
     "output_type": "stream",
     "text": [
      "Minimum Değer\n",
      "-----------------\n",
      "math score        8.00000\n",
      "norm_matematik    0.00373\n",
      "reading score    17.00000\n",
      "norm_okuma        0.00760\n",
      "writing score    10.00000\n",
      "norm_yazma        0.00454\n",
      "dtype: float64\n",
      "\n",
      "Maksimum Değer\n",
      "-----------------\n",
      "math score       100.00000\n",
      "norm_matematik     0.04662\n",
      "reading score    100.00000\n",
      "norm_okuma         0.04473\n",
      "writing score    100.00000\n",
      "norm_yazma         0.04535\n",
      "dtype: float64\n"
     ]
    }
   ],
   "source": [
    "from sklearn.preprocessing import normalize\n",
    "\n",
    "data[\"norm_matematik\"] = normalize(np.array(data[\"math score\"]).reshape(1,-1)).reshape(-1,1)\n",
    "data[\"norm_okuma\"] = normalize(np.array(data[\"reading score\"]).reshape(1,-1)).reshape(-1,1)\n",
    "data[\"norm_yazma\"] = normalize(np.array(data[\"writing score\"]).reshape(1,-1)).reshape(-1,1)\n",
    "normal_ozellikler=[\"math score\",\"norm_matematik\",\"reading score\",\"norm_okuma\",\n",
    "                    \"writing score\",\"norm_yazma\"]\n",
    "\n",
    "\n",
    "print('Minimum Değer\\n-----------------',)\n",
    "print(data[normal_ozellikler].min())\n",
    "print('\\nMaksimum Değer\\n-----------------',)\n",
    "print(data[normal_ozellikler].max())"
   ]
  },
  {
   "cell_type": "code",
   "execution_count": 45,
   "metadata": {},
   "outputs": [
    {
     "data": {
      "image/png": "[encoded data removed]",
      "text/plain": [
       "<Figure size 1296x360 with 3 Axes>"
      ]
     },
     "metadata": {},
     "output_type": "display_data"
    }
   ],
   "source": [
    "plt.figure(figsize=(18,5))\n",
    "\n",
    "for i in range(3):\n",
    "    plt.subplot(1,3,i+1)\n",
    "    plt.scatter(data[normal_ozellikler[2*i]], data[normal_ozellikler[2*i+1]])\n",
    "    plt.title(\"Orjinal ve Normalize değerler \\n ({})\".format(normal_ozellikler[2*i]))\n",
    "    plt.xlabel(\"Notlar\")\n",
    "    plt.ylabel(\"Normalleştirilmiş değerler\")\n",
    "\n",
    "plt.show()\n"
   ]
  },
  {
   "cell_type": "markdown",
   "metadata": {},
   "source": [
    "## SOR\n",
    "## bu grafikleri nasıl yorumlayabilirim? Standartlastırmaya gerek olup olmadıgını nasıl anlarım?"
   ]
  },
  {
   "cell_type": "markdown",
   "metadata": {},
   "source": [
    "## ODEV 2\n",
    "Üç sınav sonucunu tek bir değişkende, hedef değişkeni olarak tutmak istiyoruz. Bunun için üç sınavın ortalamasını içeren yeni bir değişken tanımlayın. Bu yeni değişkenin ortalamasının normal dağılımlı olup olmadığını test edin. Eğer normal dağılıma sahip değilse dönüşüm yaparak normal dağılımlı hale getirmeye çalışın ve dönüşümün sonucunu test edin."
   ]
  },
  {
   "cell_type": "code",
   "execution_count": 46,
   "metadata": {},
   "outputs": [
    {
     "data": {
      "text/plain": [
       "0   72.66667\n",
       "1   82.33333\n",
       "2   92.66667\n",
       "3   49.33333\n",
       "4   76.33333\n",
       "Name: ortalama_not, dtype: float64"
      ]
     },
     "execution_count": 46,
     "metadata": {},
     "output_type": "execute_result"
    }
   ],
   "source": [
    "data['ortalama_not'] = (data['math score'] + data['reading score'] + data['writing score'])/3\n",
    "data['ortalama_not'].head()"
   ]
  },
  {
   "cell_type": "code",
   "execution_count": 47,
   "metadata": {},
   "outputs": [
    {
     "data": {
      "image/png": "[encoded data removed]",
      "text/plain": [
       "<Figure size 432x288 with 1 Axes>"
      ]
     },
     "metadata": {},
     "output_type": "display_data"
    }
   ],
   "source": [
    "plt.hist(data['ortalama_not'], bins=20)\n",
    "plt.show()"
   ]
  },
  {
   "cell_type": "code",
   "execution_count": 52,
   "metadata": {},
   "outputs": [
    {
     "data": {
      "text/html": [
       "<div>\n",
       "<style scoped>\n",
       "    .dataframe tbody tr th:only-of-type {\n",
       "        vertical-align: middle;\n",
       "    }\n",
       "\n",
       "    .dataframe tbody tr th {\n",
       "        vertical-align: top;\n",
       "    }\n",
       "\n",
       "    .dataframe thead th {\n",
       "        text-align: right;\n",
       "    }\n",
       "</style>\n",
       "<table border=\"1\" class=\"dataframe\">\n",
       "  <thead>\n",
       "    <tr style=\"text-align: right;\">\n",
       "      <th></th>\n",
       "      <th>ozellik</th>\n",
       "      <th>jarque_bera_stats</th>\n",
       "      <th>jarque_bera_p_value</th>\n",
       "      <th>normal_stats</th>\n",
       "      <th>normal_p_value</th>\n",
       "    </tr>\n",
       "  </thead>\n",
       "  <tbody>\n",
       "    <tr>\n",
       "      <th>0</th>\n",
       "      <td>ortalama_not</td>\n",
       "      <td>10.93329</td>\n",
       "      <td>0.00423</td>\n",
       "      <td>10.69383</td>\n",
       "      <td>0.00476</td>\n",
       "    </tr>\n",
       "  </tbody>\n",
       "</table>\n",
       "</div>"
      ],
      "text/plain": [
       "        ozellik  jarque_bera_stats  jarque_bera_p_value  normal_stats  \\\n",
       "0  ortalama_not           10.93329              0.00423      10.69383   \n",
       "\n",
       "   normal_p_value  \n",
       "0         0.00476  "
      ]
     },
     "execution_count": 52,
     "metadata": {},
     "output_type": "execute_result"
    }
   ],
   "source": [
    "\n",
    "\n",
    "dagilim_testleri = pd.DataFrame(columns=['ozellik', 'jarque_bera_stats', 'jarque_bera_p_value', \n",
    "                                         'normal_stats', 'normal_p_value'])\n",
    "jb_stats = jarque_bera(data['ortalama_not'])\n",
    "norm_stats = normaltest(data['ortalama_not'])\n",
    "dagilim_testleri = dagilim_testleri.append({\"ozellik\": 'ortalama_not',\n",
    "                                                \"jarque_bera_stats\" : jb_stats[0] ,\n",
    "                                                \"jarque_bera_p_value\" : jb_stats[1] ,\n",
    "                                                \"normal_stats\": norm_stats[0] , \n",
    "                                                \"normal_p_value\" : norm_stats[1]\n",
    "                                               }, ignore_index=True)\n",
    "dagilim_testleri"
   ]
  },
  {
   "cell_type": "code",
   "execution_count": 54,
   "metadata": {},
   "outputs": [
    {
     "name": "stdout",
     "output_type": "stream",
     "text": [
      "Minimum Değer\n",
      "-----------------\n",
      "ortalama_not        18.33333\n",
      "norm_ortalama_not    0.00837\n",
      "dtype: float64\n",
      "\n",
      "Maksimum Değer\n",
      "-----------------\n",
      "ortalama_not        100.00000\n",
      "norm_ortalama_not     0.04566\n",
      "dtype: float64\n"
     ]
    }
   ],
   "source": [
    "#normalize edelimm\n",
    "\n",
    "from sklearn.preprocessing import normalize\n",
    "\n",
    "data[\"norm_ortalama_not\"] = normalize(np.array(data[\"ortalama_not\"]).reshape(1,-1)).reshape(-1,1)\n",
    "normal_ozellikler=[\"ortalama_not\",\"norm_ortalama_not\"]\n",
    "\n",
    "\n",
    "print('Minimum Değer\\n-----------------',)\n",
    "print(data[normal_ozellikler].min())\n",
    "print('\\nMaksimum Değer\\n-----------------',)\n",
    "print(data[normal_ozellikler].max())"
   ]
  },
  {
   "cell_type": "code",
   "execution_count": 55,
   "metadata": {},
   "outputs": [
    {
     "data": {
      "text/html": [
       "<div>\n",
       "<style scoped>\n",
       "    .dataframe tbody tr th:only-of-type {\n",
       "        vertical-align: middle;\n",
       "    }\n",
       "\n",
       "    .dataframe tbody tr th {\n",
       "        vertical-align: top;\n",
       "    }\n",
       "\n",
       "    .dataframe thead th {\n",
       "        text-align: right;\n",
       "    }\n",
       "</style>\n",
       "<table border=\"1\" class=\"dataframe\">\n",
       "  <thead>\n",
       "    <tr style=\"text-align: right;\">\n",
       "      <th></th>\n",
       "      <th>ozellik</th>\n",
       "      <th>jarque_bera_stats</th>\n",
       "      <th>jarque_bera_p_value</th>\n",
       "      <th>normal_stats</th>\n",
       "      <th>normal_p_value</th>\n",
       "    </tr>\n",
       "  </thead>\n",
       "  <tbody>\n",
       "    <tr>\n",
       "      <th>0</th>\n",
       "      <td>norm_ortalama_not</td>\n",
       "      <td>10.93329</td>\n",
       "      <td>0.00423</td>\n",
       "      <td>10.69383</td>\n",
       "      <td>0.00476</td>\n",
       "    </tr>\n",
       "  </tbody>\n",
       "</table>\n",
       "</div>"
      ],
      "text/plain": [
       "             ozellik  jarque_bera_stats  jarque_bera_p_value  normal_stats  \\\n",
       "0  norm_ortalama_not           10.93329              0.00423      10.69383   \n",
       "\n",
       "   normal_p_value  \n",
       "0         0.00476  "
      ]
     },
     "execution_count": 55,
     "metadata": {},
     "output_type": "execute_result"
    }
   ],
   "source": [
    "\n",
    "\n",
    "dagilim_testleri = pd.DataFrame(columns=['ozellik', 'jarque_bera_stats', 'jarque_bera_p_value', \n",
    "                                         'normal_stats', 'normal_p_value'])\n",
    "jb_stats = jarque_bera(data['norm_ortalama_not'])\n",
    "norm_stats = normaltest(data['norm_ortalama_not'])\n",
    "dagilim_testleri = dagilim_testleri.append({\"ozellik\": 'norm_ortalama_not',\n",
    "                                                \"jarque_bera_stats\" : jb_stats[0] ,\n",
    "                                                \"jarque_bera_p_value\" : jb_stats[1] ,\n",
    "                                                \"normal_stats\": norm_stats[0] , \n",
    "                                                \"normal_p_value\" : norm_stats[1]\n",
    "                                               }, ignore_index=True)\n",
    "dagilim_testleri"
   ]
  },
  {
   "cell_type": "markdown",
   "metadata": {},
   "source": [
    "# SOR\n",
    "## p value neden değişmedi?"
   ]
  },
  {
   "cell_type": "markdown",
   "metadata": {},
   "source": [
    "## ODEV 3: Bir önceki soruda oluşturduğumuz hedef değişkeni ile hangi değişkenler ilişkili görünüyor? Eğer amacımız sınav başarısını belirleyen etkenleri açıklamak olsaydı hangi değişkenleri veri kümemizde tutmamız gerekirdi?"
   ]
  },
  {
   "cell_type": "code",
   "execution_count": 58,
   "metadata": {},
   "outputs": [
    {
     "data": {
      "text/html": [
       "<div>\n",
       "<style scoped>\n",
       "    .dataframe tbody tr th:only-of-type {\n",
       "        vertical-align: middle;\n",
       "    }\n",
       "\n",
       "    .dataframe tbody tr th {\n",
       "        vertical-align: top;\n",
       "    }\n",
       "\n",
       "    .dataframe thead th {\n",
       "        text-align: right;\n",
       "    }\n",
       "</style>\n",
       "<table border=\"1\" class=\"dataframe\">\n",
       "  <thead>\n",
       "    <tr style=\"text-align: right;\">\n",
       "      <th></th>\n",
       "      <th>gender</th>\n",
       "      <th>race/ethnicity</th>\n",
       "      <th>parental level of education</th>\n",
       "      <th>lunch</th>\n",
       "      <th>test preparation course</th>\n",
       "      <th>math score</th>\n",
       "      <th>reading score</th>\n",
       "      <th>writing score</th>\n",
       "      <th>norm_matematik</th>\n",
       "      <th>norm_okuma</th>\n",
       "      <th>norm_yazma</th>\n",
       "      <th>ortalama_not</th>\n",
       "      <th>norm_ortalama_not</th>\n",
       "    </tr>\n",
       "  </thead>\n",
       "  <tbody>\n",
       "    <tr>\n",
       "      <th>0</th>\n",
       "      <td>female</td>\n",
       "      <td>group B</td>\n",
       "      <td>bachelor's degree</td>\n",
       "      <td>standard</td>\n",
       "      <td>none</td>\n",
       "      <td>72.00000</td>\n",
       "      <td>72</td>\n",
       "      <td>74</td>\n",
       "      <td>0.03356</td>\n",
       "      <td>0.03221</td>\n",
       "      <td>0.03356</td>\n",
       "      <td>72.66667</td>\n",
       "      <td>0.03318</td>\n",
       "    </tr>\n",
       "    <tr>\n",
       "      <th>1</th>\n",
       "      <td>female</td>\n",
       "      <td>group C</td>\n",
       "      <td>some college</td>\n",
       "      <td>standard</td>\n",
       "      <td>completed</td>\n",
       "      <td>69.00000</td>\n",
       "      <td>90</td>\n",
       "      <td>88</td>\n",
       "      <td>0.03217</td>\n",
       "      <td>0.04026</td>\n",
       "      <td>0.03991</td>\n",
       "      <td>82.33333</td>\n",
       "      <td>0.03759</td>\n",
       "    </tr>\n",
       "    <tr>\n",
       "      <th>2</th>\n",
       "      <td>female</td>\n",
       "      <td>group B</td>\n",
       "      <td>master's degree</td>\n",
       "      <td>standard</td>\n",
       "      <td>none</td>\n",
       "      <td>90.00000</td>\n",
       "      <td>95</td>\n",
       "      <td>93</td>\n",
       "      <td>0.04195</td>\n",
       "      <td>0.04250</td>\n",
       "      <td>0.04218</td>\n",
       "      <td>92.66667</td>\n",
       "      <td>0.04231</td>\n",
       "    </tr>\n",
       "    <tr>\n",
       "      <th>3</th>\n",
       "      <td>male</td>\n",
       "      <td>group A</td>\n",
       "      <td>associate's degree</td>\n",
       "      <td>free/reduced</td>\n",
       "      <td>none</td>\n",
       "      <td>47.00000</td>\n",
       "      <td>57</td>\n",
       "      <td>44</td>\n",
       "      <td>0.02191</td>\n",
       "      <td>0.02550</td>\n",
       "      <td>0.01995</td>\n",
       "      <td>49.33333</td>\n",
       "      <td>0.02252</td>\n",
       "    </tr>\n",
       "    <tr>\n",
       "      <th>4</th>\n",
       "      <td>male</td>\n",
       "      <td>group C</td>\n",
       "      <td>some college</td>\n",
       "      <td>standard</td>\n",
       "      <td>none</td>\n",
       "      <td>76.00000</td>\n",
       "      <td>78</td>\n",
       "      <td>75</td>\n",
       "      <td>0.03543</td>\n",
       "      <td>0.03489</td>\n",
       "      <td>0.03401</td>\n",
       "      <td>76.33333</td>\n",
       "      <td>0.03485</td>\n",
       "    </tr>\n",
       "  </tbody>\n",
       "</table>\n",
       "</div>"
      ],
      "text/plain": [
       "   gender race/ethnicity parental level of education         lunch  \\\n",
       "0  female        group B           bachelor's degree      standard   \n",
       "1  female        group C                some college      standard   \n",
       "2  female        group B             master's degree      standard   \n",
       "3    male        group A          associate's degree  free/reduced   \n",
       "4    male        group C                some college      standard   \n",
       "\n",
       "  test preparation course  math score  reading score  writing score  \\\n",
       "0                    none    72.00000             72             74   \n",
       "1               completed    69.00000             90             88   \n",
       "2                    none    90.00000             95             93   \n",
       "3                    none    47.00000             57             44   \n",
       "4                    none    76.00000             78             75   \n",
       "\n",
       "   norm_matematik  norm_okuma  norm_yazma  ortalama_not  norm_ortalama_not  \n",
       "0         0.03356     0.03221     0.03356      72.66667            0.03318  \n",
       "1         0.03217     0.04026     0.03991      82.33333            0.03759  \n",
       "2         0.04195     0.04250     0.04218      92.66667            0.04231  \n",
       "3         0.02191     0.02550     0.01995      49.33333            0.02252  \n",
       "4         0.03543     0.03489     0.03401      76.33333            0.03485  "
      ]
     },
     "execution_count": 58,
     "metadata": {},
     "output_type": "execute_result"
    }
   ],
   "source": [
    "data.head()"
   ]
  },
  {
   "cell_type": "code",
   "execution_count": 57,
   "metadata": {},
   "outputs": [
    {
     "data": {
      "text/html": [
       "<div>\n",
       "<style scoped>\n",
       "    .dataframe tbody tr th:only-of-type {\n",
       "        vertical-align: middle;\n",
       "    }\n",
       "\n",
       "    .dataframe tbody tr th {\n",
       "        vertical-align: top;\n",
       "    }\n",
       "\n",
       "    .dataframe thead th {\n",
       "        text-align: right;\n",
       "    }\n",
       "</style>\n",
       "<table border=\"1\" class=\"dataframe\">\n",
       "  <thead>\n",
       "    <tr style=\"text-align: right;\">\n",
       "      <th></th>\n",
       "      <th>math score</th>\n",
       "      <th>reading score</th>\n",
       "      <th>writing score</th>\n",
       "      <th>norm_matematik</th>\n",
       "      <th>norm_okuma</th>\n",
       "      <th>norm_yazma</th>\n",
       "      <th>ortalama_not</th>\n",
       "      <th>norm_ortalama_not</th>\n",
       "    </tr>\n",
       "  </thead>\n",
       "  <tbody>\n",
       "    <tr>\n",
       "      <th>math score</th>\n",
       "      <td>1.00000</td>\n",
       "      <td>0.80973</td>\n",
       "      <td>0.79356</td>\n",
       "      <td>1.00000</td>\n",
       "      <td>0.80973</td>\n",
       "      <td>0.79356</td>\n",
       "      <td>0.91420</td>\n",
       "      <td>0.91420</td>\n",
       "    </tr>\n",
       "    <tr>\n",
       "      <th>reading score</th>\n",
       "      <td>0.80973</td>\n",
       "      <td>1.00000</td>\n",
       "      <td>0.95460</td>\n",
       "      <td>0.80973</td>\n",
       "      <td>1.00000</td>\n",
       "      <td>0.95460</td>\n",
       "      <td>0.96984</td>\n",
       "      <td>0.96984</td>\n",
       "    </tr>\n",
       "    <tr>\n",
       "      <th>writing score</th>\n",
       "      <td>0.79356</td>\n",
       "      <td>0.95460</td>\n",
       "      <td>1.00000</td>\n",
       "      <td>0.79356</td>\n",
       "      <td>0.95460</td>\n",
       "      <td>1.00000</td>\n",
       "      <td>0.96477</td>\n",
       "      <td>0.96477</td>\n",
       "    </tr>\n",
       "    <tr>\n",
       "      <th>norm_matematik</th>\n",
       "      <td>1.00000</td>\n",
       "      <td>0.80973</td>\n",
       "      <td>0.79356</td>\n",
       "      <td>1.00000</td>\n",
       "      <td>0.80973</td>\n",
       "      <td>0.79356</td>\n",
       "      <td>0.91420</td>\n",
       "      <td>0.91420</td>\n",
       "    </tr>\n",
       "    <tr>\n",
       "      <th>norm_okuma</th>\n",
       "      <td>0.80973</td>\n",
       "      <td>1.00000</td>\n",
       "      <td>0.95460</td>\n",
       "      <td>0.80973</td>\n",
       "      <td>1.00000</td>\n",
       "      <td>0.95460</td>\n",
       "      <td>0.96984</td>\n",
       "      <td>0.96984</td>\n",
       "    </tr>\n",
       "    <tr>\n",
       "      <th>norm_yazma</th>\n",
       "      <td>0.79356</td>\n",
       "      <td>0.95460</td>\n",
       "      <td>1.00000</td>\n",
       "      <td>0.79356</td>\n",
       "      <td>0.95460</td>\n",
       "      <td>1.00000</td>\n",
       "      <td>0.96477</td>\n",
       "      <td>0.96477</td>\n",
       "    </tr>\n",
       "    <tr>\n",
       "      <th>ortalama_not</th>\n",
       "      <td>0.91420</td>\n",
       "      <td>0.96984</td>\n",
       "      <td>0.96477</td>\n",
       "      <td>0.91420</td>\n",
       "      <td>0.96984</td>\n",
       "      <td>0.96477</td>\n",
       "      <td>1.00000</td>\n",
       "      <td>1.00000</td>\n",
       "    </tr>\n",
       "    <tr>\n",
       "      <th>norm_ortalama_not</th>\n",
       "      <td>0.91420</td>\n",
       "      <td>0.96984</td>\n",
       "      <td>0.96477</td>\n",
       "      <td>0.91420</td>\n",
       "      <td>0.96984</td>\n",
       "      <td>0.96477</td>\n",
       "      <td>1.00000</td>\n",
       "      <td>1.00000</td>\n",
       "    </tr>\n",
       "  </tbody>\n",
       "</table>\n",
       "</div>"
      ],
      "text/plain": [
       "                   math score  reading score  writing score  norm_matematik  \\\n",
       "math score            1.00000        0.80973        0.79356         1.00000   \n",
       "reading score         0.80973        1.00000        0.95460         0.80973   \n",
       "writing score         0.79356        0.95460        1.00000         0.79356   \n",
       "norm_matematik        1.00000        0.80973        0.79356         1.00000   \n",
       "norm_okuma            0.80973        1.00000        0.95460         0.80973   \n",
       "norm_yazma            0.79356        0.95460        1.00000         0.79356   \n",
       "ortalama_not          0.91420        0.96984        0.96477         0.91420   \n",
       "norm_ortalama_not     0.91420        0.96984        0.96477         0.91420   \n",
       "\n",
       "                   norm_okuma  norm_yazma  ortalama_not  norm_ortalama_not  \n",
       "math score            0.80973     0.79356       0.91420            0.91420  \n",
       "reading score         1.00000     0.95460       0.96984            0.96984  \n",
       "writing score         0.95460     1.00000       0.96477            0.96477  \n",
       "norm_matematik        0.80973     0.79356       0.91420            0.91420  \n",
       "norm_okuma            1.00000     0.95460       0.96984            0.96984  \n",
       "norm_yazma            0.95460     1.00000       0.96477            0.96477  \n",
       "ortalama_not          0.96984     0.96477       1.00000            1.00000  \n",
       "norm_ortalama_not     0.96984     0.96477       1.00000            1.00000  "
      ]
     },
     "execution_count": 57,
     "metadata": {},
     "output_type": "execute_result"
    }
   ],
   "source": [
    "data.corr()\n"
   ]
  },
  {
   "cell_type": "code",
   "execution_count": 61,
   "metadata": {},
   "outputs": [
    {
     "data": {
      "image/png": "[encoded data removed]",
      "text/plain": [
       "<Figure size 1296x576 with 4 Axes>"
      ]
     },
     "metadata": {},
     "output_type": "display_data"
    }
   ],
   "source": [
    "#kategorik değişimler için:\n",
    "\n",
    "plt.figure(figsize=(18,8))\n",
    "\n",
    "plt.subplot(2,2,1)\n",
    "sns.barplot(data[\"gender\"], data[\"ortalama_not\"])\n",
    "plt.subplot(2,2,2)\n",
    "sns.barplot(data[\"race/ethnicity\"], data[\"ortalama_not\"])\n",
    "plt.subplot(2,2,3)\n",
    "sns.barplot(data[\"parental level of education\"], data[\"ortalama_not\"])\n",
    "plt.subplot(2,2,4)\n",
    "sns.barplot(data[\"lunch\"], data[\"ortalama_not\"])\n",
    "\n",
    "plt.show()"
   ]
  },
  {
   "cell_type": "code",
   "execution_count": 63,
   "metadata": {},
   "outputs": [
    {
     "data": {
      "text/plain": [
       "'CİNSİYET'"
      ]
     },
     "metadata": {},
     "output_type": "display_data"
    },
    {
     "data": {
      "text/plain": [
       "Ttest_indResult(statistic=4.240700482473363, pvalue=2.4351791255484407e-05)"
      ]
     },
     "metadata": {},
     "output_type": "display_data"
    },
    {
     "data": {
      "text/plain": [
       "'YEMEK'"
      ]
     },
     "metadata": {},
     "output_type": "display_data"
    },
    {
     "data": {
      "text/plain": [
       "Ttest_indResult(statistic=9.554221645742766, pvalue=9.309015705628212e-21)"
      ]
     },
     "metadata": {},
     "output_type": "display_data"
    },
    {
     "data": {
      "text/plain": [
       "'HAZIRLIK KURSU'"
      ]
     },
     "metadata": {},
     "output_type": "display_data"
    },
    {
     "data": {
      "text/plain": [
       "Ttest_indResult(statistic=-8.397252107816769, pvalue=1.5538861955646217e-16)"
      ]
     },
     "metadata": {},
     "output_type": "display_data"
    }
   ],
   "source": [
    "import scipy.stats as sts\n",
    "ttest_cinsiyet=sts.ttest_ind(data[data[\"gender\"]==\"female\"][\"ortalama_not\"], \n",
    "                             data[data[\"gender\"]==\"male\"][\"ortalama_not\"])\n",
    "ttest_yemek=sts.ttest_ind(data[data[\"lunch\"]==\"standard\"][\"ortalama_not\"], \n",
    "                             data[data[\"lunch\"]==\"free/reduced\"][\"ortalama_not\"])\n",
    "ttest_kurs=sts.ttest_ind(data[data[\"test preparation course\"]==\"none\"][\"ortalama_not\"], \n",
    "                             data[data[\"test preparation course\"]==\"completed\"][\"ortalama_not\"])\n",
    "\n",
    "display(\"CİNSİYET\", ttest_cinsiyet)\n",
    "display(\"YEMEK\", ttest_yemek)\n",
    "display(\"HAZIRLIK KURSU\", ttest_kurs)"
   ]
  },
  {
   "cell_type": "markdown",
   "metadata": {},
   "source": [
    "## SOR--burada kategorik degıskende fazla deger olan degişkenleri ne yapmalıyım?"
   ]
  },
  {
   "cell_type": "code",
   "execution_count": 65,
   "metadata": {},
   "outputs": [
    {
     "data": {
      "text/plain": [
       "Index(['gender', 'race/ethnicity', 'parental level of education', 'lunch'], dtype='object')"
      ]
     },
     "execution_count": 65,
     "metadata": {},
     "output_type": "execute_result"
    }
   ],
   "source": [
    "# Test whether group differences are significant.\n",
    "kategorik_degiskenler = data.columns[:4]\n",
    "kategorik_degiskenler"
   ]
  },
  {
   "cell_type": "markdown",
   "metadata": {},
   "source": [
    "## burada for u kullanarak nasıl yazabilirim?"
   ]
  },
  {
   "cell_type": "code",
   "execution_count": null,
   "metadata": {},
   "outputs": [],
   "source": []
  }
 ],
 "metadata": {
  "kernelspec": {
   "display_name": "Python 3",
   "language": "python",
   "name": "python3"
  },
  "language_info": {
   "codemirror_mode": {
    "name": "ipython",
    "version": 3
   },
   "file_extension": ".py",
   "mimetype": "text/x-python",
   "name": "python",
   "nbconvert_exporter": "python",
   "pygments_lexer": "ipython3",
   "version": "3.7.6"
  }
 },
 "nbformat": 4,
 "nbformat_minor": 4
}
