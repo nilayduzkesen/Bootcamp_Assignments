{
 "cells": [
  {
   "cell_type": "code",
   "execution_count": 1,
   "metadata": {},
   "outputs": [],
   "source": [
    "\n",
    "#Ödev1\n",
    "\n",
    "#rank değişkeni kategorik degerlendirilebilir\n",
    "#avantajı sıralamaya baglı olarak kategorizasyon yapılabilir ilk 10, ilk 100 gibi\n",
    "#dezavantajı ??"
   ]
  },
  {
   "cell_type": "code",
   "execution_count": null,
   "metadata": {},
   "outputs": [],
   "source": [
    "#Yaş--oran değişkeni\n",
    "#Maaş--oran değişkeni\n",
    "#Gelir--oran değişkeni\n",
    "#Müşteri türü--nominal değişken\n",
    "#Hisse senedi fiyatı--Oran??"
   ]
  }
 ],
 "metadata": {
  "kernelspec": {
   "display_name": "Python 3",
   "language": "python",
   "name": "python3"
  },
  "language_info": {
   "codemirror_mode": {
    "name": "ipython",
    "version": 3
   },
   "file_extension": ".py",
   "mimetype": "text/x-python",
   "name": "python",
   "nbconvert_exporter": "python",
   "pygments_lexer": "ipython3",
   "version": "3.7.6"
  }
 },
 "nbformat": 4,
 "nbformat_minor": 4
}
