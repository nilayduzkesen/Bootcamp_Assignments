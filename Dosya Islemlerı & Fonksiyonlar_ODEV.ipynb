{
 "cells": [
  {
   "cell_type": "markdown",
   "metadata": {},
   "source": [
    "#ODEV1\n",
    "Seçeceğiniz herhangi bir şiiri bilgisayarına .txt dsyası olarak kaydedin. Şiirin kaç dizeden oluştuğunu hesaplayın ve başka bir dosyaya her dizenin ilk kelimesini yazdırın."
   ]
  },
  {
   "cell_type": "markdown",
   "metadata": {},
   "source": [
    "with open(\"gul.txt\") as f:\n",
    "    lines=f.readlines() \n",
    "\n",
    "print(len(lines))\n",
    "\n",
    "with open ('gul.txt', 'r') as f:\n",
    "    lines = f.readlines()\n",
    "f = open('gul_2.txt', 'a')\n",
    "\n",
    "for line in lines:\n",
    "    words= line.split()\n",
    "    print(words[0])\n",
    "\n"
   ]
  },
  {
   "cell_type": "markdown",
   "metadata": {},
   "source": [
    " #ODEV2 \n",
    " Parametre olarak girilen bir sayının asal sayı olup olmadığını belirten bir fonksiyon yazın.\n",
    "\n"
   ]
  },
  {
   "cell_type": "code",
   "execution_count": 19,
   "metadata": {},
   "outputs": [
    {
     "name": "stdout",
     "output_type": "stream",
     "text": [
      "37 :Asal sayı girdiniz\n"
     ]
    }
   ],
   "source": [
    "def num(x):\n",
    "    if x > 2:\n",
    "        for i in range(2,x):\n",
    "            if x%i ==0:\n",
    "                print('{} :Asal sayı girmediniz'.format(x))\n",
    "            else:\n",
    "                print('{} :Asal sayı girdiniz'.format(x))\n",
    "            return None\n",
    "    else:\n",
    "        print('{} :Asal sayı girdiniz'.format(x))\n",
    "        return\n",
    "num(37)"
   ]
  },
  {
   "cell_type": "markdown",
   "metadata": {},
   "source": [
    "#ODEV3\n",
    "Parametre olarak girilecek listenin elemanlarını yeni bir listeye her değer sadece bir kere geçecek şekilde aktaran bir fonksiyon yazın"
   ]
  },
  {
   "cell_type": "code",
   "execution_count": 20,
   "metadata": {},
   "outputs": [
    {
     "name": "stdout",
     "output_type": "stream",
     "text": [
      "[1, 3, 5, 6]\n"
     ]
    }
   ],
   "source": [
    "old_list = [1, 3, 5, 6, 3, 5, 6, 1] \n",
    "new_list = [] \n",
    "[new_list.append(x) for x in old_list if x not in new_list] \n",
    "print(new_list)"
   ]
  },
  {
   "cell_type": "code",
   "execution_count": 22,
   "metadata": {},
   "outputs": [
    {
     "name": "stdout",
     "output_type": "stream",
     "text": [
      "[1, 3, 5, 6]\n"
     ]
    }
   ],
   "source": [
    "#Alternatif odev3\n",
    "\n",
    "\n",
    "def uniq_liste(x):\n",
    "    output = list()\n",
    "    \n",
    "    for i in x:\n",
    "        if i not in output:\n",
    "            output.append(i)\n",
    "        \n",
    "    return output\n",
    "\n",
    "print(uniq_liste([1, 3, 5, 6, 3, 5, 6, 1]))\n",
    "\n"
   ]
  },
  {
   "cell_type": "code",
   "execution_count": 25,
   "metadata": {},
   "outputs": [
    {
     "name": "stdout",
     "output_type": "stream",
     "text": [
      "27 years\n"
     ]
    }
   ],
   "source": [
    "# Ödev 4 \n",
    "\n",
    "from datetime import date \n",
    "  \n",
    "def calculateAge(birthDate): \n",
    "    days_in_year = 365.2425    \n",
    "    age = int((date.today() - birthDate).days / days_in_year) \n",
    "    return age \n",
    "          \n",
    "print(calculateAge(date(1992, 4, 10)), \"years\")"
   ]
  },
  {
   "cell_type": "code",
   "execution_count": null,
   "metadata": {},
   "outputs": [],
   "source": []
  }
 ],
 "metadata": {
  "kernelspec": {
   "display_name": "Python 3",
   "language": "python",
   "name": "python3"
  },
  "language_info": {
   "codemirror_mode": {
    "name": "ipython",
    "version": 3
   },
   "file_extension": ".py",
   "mimetype": "text/x-python",
   "name": "python",
   "nbconvert_exporter": "python",
   "pygments_lexer": "ipython3",
   "version": "3.7.6"
  }
 },
 "nbformat": 4,
 "nbformat_minor": 4
}
