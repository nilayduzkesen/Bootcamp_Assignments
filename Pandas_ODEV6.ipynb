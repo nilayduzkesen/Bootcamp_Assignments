{
 "cells": [
  {
   "cell_type": "code",
   "execution_count": 1,
   "metadata": {},
   "outputs": [],
   "source": [
    "import pandas as pd\n",
    "import numpy as np\n",
    "import warnings\n",
    "warnings.filterwarnings('ignore')"
   ]
  },
  {
   "cell_type": "code",
   "execution_count": 2,
   "metadata": {},
   "outputs": [
    {
     "data": {
      "text/plain": [
       "Sex\n",
       "female    27.915709\n",
       "male      30.726645\n",
       "Name: Age, dtype: float64"
      ]
     },
     "execution_count": 2,
     "metadata": {},
     "output_type": "execute_result"
    }
   ],
   "source": [
    "\n",
    "#ODEV2 Kaggle'dan Titanic: Machine Learning from Disaster isimli yarışmanın train.csv isimli dosyasını indirin \n",
    "#groupby() ile yolcuların ortalama yaşlarını herbir cinsiyet için ayrı olacak şekilde hesaplayın.\n",
    "\n",
    "\n",
    "train = pd.read_csv('./train.csv',index_col=0)\n",
    "train\n",
    "train.groupby(by='Sex').mean()['Age']"
   ]
  },
  {
   "cell_type": "code",
   "execution_count": 3,
   "metadata": {},
   "outputs": [
    {
     "data": {
      "text/plain": [
       "17.50841750841751"
      ]
     },
     "execution_count": 3,
     "metadata": {},
     "output_type": "execute_result"
    }
   ],
   "source": [
    "#odev3 30 yaşından küçük tüm yolcuların kurtulma oranını (survival ratio) hesaplayın. \n",
    "#Daha sonra, kurtulma oranını cinsiyete göre ayrı ayrı hesaplayın.\n",
    "\n",
    "\n",
    "\n",
    "kucuk30yas = train[train['Age'] < 30]\n",
    "kucuk30yas\n",
    "\n",
    "\n",
    "survivors = kucuk30yas.loc[lambda df: kucuk30yas['Survived'] == 1, :]\n",
    "\n",
    "\n",
    "sag_kalma_oranı = len(survivors) / len(train)*100\n",
    "\n",
    "sag_kalma_oranı\n"
   ]
  },
  {
   "cell_type": "code",
   "execution_count": 4,
   "metadata": {},
   "outputs": [
    {
     "data": {
      "text/plain": [
       "Sex\n",
       "female    71.428571\n",
       "male      21.518987\n",
       "Name: Survived, dtype: float64"
      ]
     },
     "execution_count": 4,
     "metadata": {},
     "output_type": "execute_result"
    }
   ],
   "source": [
    "#odev3 #Daha sonra, kurtulma oranını cinsiyete göre ayrı ayrı hesaplayın.\n",
    "\n",
    "\n",
    "survivors.groupby(by='Sex').count()['Survived'] / kucuk30yas.groupby(by='Sex').count()['Survived']*100"
   ]
  },
  {
   "cell_type": "code",
   "execution_count": 5,
   "metadata": {},
   "outputs": [],
   "source": [
    "\n",
    "#ODEV1 Endeksi alfabenin ilk 10 harfi olan ve ilk 10 asal sayıyı ve \n",
    "#ilk 10 fibonacci sayısını içeren bir veri çerçevesi oluşturun.\n",
    "\n"
   ]
  },
  {
   "cell_type": "code",
   "execution_count": 6,
   "metadata": {},
   "outputs": [
    {
     "data": {
      "text/html": [
       "<div>\n",
       "<style scoped>\n",
       "    .dataframe tbody tr th:only-of-type {\n",
       "        vertical-align: middle;\n",
       "    }\n",
       "\n",
       "    .dataframe tbody tr th {\n",
       "        vertical-align: top;\n",
       "    }\n",
       "\n",
       "    .dataframe thead th {\n",
       "        text-align: right;\n",
       "    }\n",
       "</style>\n",
       "<table border=\"1\" class=\"dataframe\">\n",
       "  <thead>\n",
       "    <tr style=\"text-align: right;\">\n",
       "      <th></th>\n",
       "      <th>Asal</th>\n",
       "      <th>Fibonacci</th>\n",
       "    </tr>\n",
       "    <tr>\n",
       "      <th>Harfler</th>\n",
       "      <th></th>\n",
       "      <th></th>\n",
       "    </tr>\n",
       "  </thead>\n",
       "  <tbody>\n",
       "    <tr>\n",
       "      <th>a</th>\n",
       "      <td>1</td>\n",
       "      <td>1</td>\n",
       "    </tr>\n",
       "    <tr>\n",
       "      <th>b</th>\n",
       "      <td>2</td>\n",
       "      <td>2</td>\n",
       "    </tr>\n",
       "    <tr>\n",
       "      <th>c</th>\n",
       "      <td>3</td>\n",
       "      <td>3</td>\n",
       "    </tr>\n",
       "    <tr>\n",
       "      <th>d</th>\n",
       "      <td>5</td>\n",
       "      <td>5</td>\n",
       "    </tr>\n",
       "    <tr>\n",
       "      <th>e</th>\n",
       "      <td>7</td>\n",
       "      <td>8</td>\n",
       "    </tr>\n",
       "    <tr>\n",
       "      <th>f</th>\n",
       "      <td>9</td>\n",
       "      <td>13</td>\n",
       "    </tr>\n",
       "    <tr>\n",
       "      <th>g</th>\n",
       "      <td>11</td>\n",
       "      <td>21</td>\n",
       "    </tr>\n",
       "    <tr>\n",
       "      <th>h</th>\n",
       "      <td>13</td>\n",
       "      <td>34</td>\n",
       "    </tr>\n",
       "    <tr>\n",
       "      <th>i</th>\n",
       "      <td>15</td>\n",
       "      <td>55</td>\n",
       "    </tr>\n",
       "    <tr>\n",
       "      <th>j</th>\n",
       "      <td>17</td>\n",
       "      <td>89</td>\n",
       "    </tr>\n",
       "  </tbody>\n",
       "</table>\n",
       "</div>"
      ],
      "text/plain": [
       "         Asal  Fibonacci\n",
       "Harfler                 \n",
       "a           1          1\n",
       "b           2          2\n",
       "c           3          3\n",
       "d           5          5\n",
       "e           7          8\n",
       "f           9         13\n",
       "g          11         21\n",
       "h          13         34\n",
       "i          15         55\n",
       "j          17         89"
      ]
     },
     "execution_count": 6,
     "metadata": {},
     "output_type": "execute_result"
    }
   ],
   "source": [
    "\n",
    "#harfleri  ve indexi olusturma\n",
    "\n",
    "import string\n",
    "string.ascii_lowercase\n",
    "\n",
    "harfler = list(string.ascii_lowercase[:10])\n",
    "\n",
    "table = pd.DataFrame(index = harfler)\n",
    "\n",
    "table.index.name = 'Harfler'\n",
    "\n",
    "\n",
    "#asal sayıları olusturma  ve tabloya aktarma\n",
    "\n",
    "\n",
    "primes = [1,2]\n",
    "\n",
    "control = 3\n",
    "\n",
    "for i in range(20):\n",
    "    for n in range(2,control):\n",
    "        if control % n ==0:\n",
    "            break\n",
    "            \n",
    "        else:\n",
    "            primes.append(control)\n",
    "            break\n",
    "    control += 1\n",
    "    if len(primes) == 10:\n",
    "        break\n",
    "            \n",
    "Asals = pd.DataFrame(primes)\n",
    "\n",
    "Asals\n",
    "\n",
    "table['Asal'] = primes\n",
    "\n",
    "\n",
    " \n",
    "    \n",
    "#Fibonacci sayıları olusturma  ve tabloya aktarma\n",
    "\n",
    "a = 1\n",
    "b = 2\n",
    "\n",
    "fibo = [a,b]\n",
    "while b < 70:\n",
    "    a, b = b, a+b\n",
    "    fibo.append(b)\n",
    "    if len(fibo) == 10:\n",
    "        break\n",
    "\n",
    "Fibo = pd.DataFrame(fibo)\n",
    "\n",
    "Fibo\n",
    "\n",
    "table['Fibonacci'] = fibo\n",
    "table\n",
    "      \n"
   ]
  },
  {
   "cell_type": "code",
   "execution_count": 12,
   "metadata": {},
   "outputs": [
    {
     "data": {
      "text/plain": [
       "[1, 2, 3, 5, 7, 9, 11, 13, 15, 17]"
      ]
     },
     "execution_count": 12,
     "metadata": {},
     "output_type": "execute_result"
    }
   ],
   "source": [
    "primes = [1,2]\n",
    "\n",
    "control = 3\n",
    "\n",
    "for i in range(20):\n",
    "    for n in range(2,control):\n",
    "        if control % n ==0:\n",
    "            break\n",
    "            \n",
    "        else:\n",
    "            primes.append(control)\n",
    "            break\n",
    "    control +=1\n",
    "     \n",
    "    if len(primes) == 10:\n",
    "        break\n",
    "primes"
   ]
  },
  {
   "cell_type": "code",
   "execution_count": null,
   "metadata": {},
   "outputs": [],
   "source": []
  }
 ],
 "metadata": {
  "kernelspec": {
   "display_name": "Python 3",
   "language": "python",
   "name": "python3"
  },
  "language_info": {
   "codemirror_mode": {
    "name": "ipython",
    "version": 3
   },
   "file_extension": ".py",
   "mimetype": "text/x-python",
   "name": "python",
   "nbconvert_exporter": "python",
   "pygments_lexer": "ipython3",
   "version": "3.7.6"
  }
 },
 "nbformat": 4,
 "nbformat_minor": 4
}
