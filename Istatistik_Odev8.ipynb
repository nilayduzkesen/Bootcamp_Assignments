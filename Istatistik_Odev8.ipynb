{
 "cells": [
  {
   "cell_type": "code",
   "execution_count": 1,
   "metadata": {},
   "outputs": [
    {
     "data": {
      "text/html": [
       "<div>\n",
       "<style scoped>\n",
       "    .dataframe tbody tr th:only-of-type {\n",
       "        vertical-align: middle;\n",
       "    }\n",
       "\n",
       "    .dataframe tbody tr th {\n",
       "        vertical-align: top;\n",
       "    }\n",
       "\n",
       "    .dataframe thead th {\n",
       "        text-align: right;\n",
       "    }\n",
       "</style>\n",
       "<table border=\"1\" class=\"dataframe\">\n",
       "  <thead>\n",
       "    <tr style=\"text-align: right;\">\n",
       "      <th></th>\n",
       "      <th>keywords</th>\n",
       "      <th>impression</th>\n",
       "      <th>ctr</th>\n",
       "      <th>conv</th>\n",
       "    </tr>\n",
       "  </thead>\n",
       "  <tbody>\n",
       "    <tr>\n",
       "      <th>0</th>\n",
       "      <td>iphone</td>\n",
       "      <td>1000.075851</td>\n",
       "      <td>26.371642</td>\n",
       "      <td>10.586350</td>\n",
       "    </tr>\n",
       "    <tr>\n",
       "      <th>1</th>\n",
       "      <td>iphone</td>\n",
       "      <td>998.817562</td>\n",
       "      <td>29.555009</td>\n",
       "      <td>12.934767</td>\n",
       "    </tr>\n",
       "    <tr>\n",
       "      <th>2</th>\n",
       "      <td>iphone</td>\n",
       "      <td>1004.831357</td>\n",
       "      <td>27.611179</td>\n",
       "      <td>9.229964</td>\n",
       "    </tr>\n",
       "    <tr>\n",
       "      <th>3</th>\n",
       "      <td>iphone</td>\n",
       "      <td>1001.067060</td>\n",
       "      <td>21.571941</td>\n",
       "      <td>11.543940</td>\n",
       "    </tr>\n",
       "    <tr>\n",
       "      <th>4</th>\n",
       "      <td>iphone</td>\n",
       "      <td>998.641608</td>\n",
       "      <td>14.330537</td>\n",
       "      <td>11.592322</td>\n",
       "    </tr>\n",
       "  </tbody>\n",
       "</table>\n",
       "</div>"
      ],
      "text/plain": [
       "  keywords   impression        ctr       conv\n",
       "0   iphone  1000.075851  26.371642  10.586350\n",
       "1   iphone   998.817562  29.555009  12.934767\n",
       "2   iphone  1004.831357  27.611179   9.229964\n",
       "3   iphone  1001.067060  21.571941  11.543940\n",
       "4   iphone   998.641608  14.330537  11.592322"
      ]
     },
     "execution_count": 1,
     "metadata": {},
     "output_type": "execute_result"
    }
   ],
   "source": [
    "import pandas as pd\n",
    "import numpy as np\n",
    "import matplotlib.pyplot as plt\n",
    "\n",
    "data = pd.DataFrame()\n",
    "data['keywords'] = ['iphone'] * 100 + ['samsung'] * 100 \n",
    "data['impression'] = np.append(np.random.normal(1000, 8, 100), np.random.normal(800, 5, 100))\n",
    "data['ctr'] = np.append(np.random.normal(25, 4, 100), np.random.normal(30, 6, 100))\n",
    "data['conv'] = np.append(np.random.normal(10, 2, 100), np.random.normal(15, 4, 100))\n",
    "\n",
    "data.head()"
   ]
  },
  {
   "cell_type": "code",
   "execution_count": 2,
   "metadata": {},
   "outputs": [
    {
     "name": "stdout",
     "output_type": "stream",
     "text": [
      "27.28634119614081\n"
     ]
    }
   ],
   "source": [
    "#Mean\n",
    "\n",
    "sum(data['impression']) / len(data['impression'])\n",
    "\n",
    "print(np.mean(data['ctr']))"
   ]
  },
  {
   "cell_type": "code",
   "execution_count": 3,
   "metadata": {},
   "outputs": [
    {
     "name": "stdout",
     "output_type": "stream",
     "text": [
      "26.53423807130673\n"
     ]
    }
   ],
   "source": [
    "#median\n",
    "\n",
    "print(np.median(data['ctr']))"
   ]
  },
  {
   "cell_type": "code",
   "execution_count": 4,
   "metadata": {},
   "outputs": [
    {
     "data": {
      "text/plain": [
       "11.870271556743901"
      ]
     },
     "execution_count": 4,
     "metadata": {},
     "output_type": "execute_result"
    }
   ],
   "source": [
    "(values, counts) = np.unique(data['ctr'], return_counts=True)\n",
    "ind = np.argmax(counts)\n",
    "values[ind]"
   ]
  },
  {
   "cell_type": "code",
   "execution_count": 5,
   "metadata": {},
   "outputs": [
    {
     "name": "stdout",
     "output_type": "stream",
     "text": [
      "15.053463545165531\n",
      "15.053463545165531\n"
     ]
    }
   ],
   "source": [
    "#variant\n",
    "\n",
    "print(np.var(data['conv'], ddof=1))\n",
    "print(data['conv'].var())"
   ]
  },
  {
   "cell_type": "code",
   "execution_count": 6,
   "metadata": {},
   "outputs": [
    {
     "name": "stdout",
     "output_type": "stream",
     "text": [
      "3.879879320953879\n",
      "3.879879320953879\n"
     ]
    }
   ],
   "source": [
    "#standart deviation\n",
    "print(np.std(data['conv'], ddof=1))\n",
    "print(data['conv'].std())"
   ]
  },
  {
   "cell_type": "code",
   "execution_count": 7,
   "metadata": {},
   "outputs": [
    {
     "data": {
      "text/plain": [
       "0.2743488978031945"
      ]
     },
     "execution_count": 7,
     "metadata": {},
     "output_type": "execute_result"
    }
   ],
   "source": [
    "#standart error\n",
    "\n",
    "np.std(data['conv'] ,ddof=1) / np.sqrt(len(data['conv']))\n",
    "\n"
   ]
  },
  {
   "cell_type": "code",
   "execution_count": 8,
   "metadata": {},
   "outputs": [
    {
     "name": "stdout",
     "output_type": "stream",
     "text": [
      "0.032\n"
     ]
    }
   ],
   "source": [
    "#ODEV2\n",
    "#Toplam Üretim Yüzdesi P(A)=0.40 P(B)=0.40 P(C)=0.20\n",
    "#Hatalı Üretim Olasılığı P(D|A)=0.015 P(D|B)=0.020 P(D|C)=0.010\n",
    "#Rastgele seçilen bir bozuk bir bilgisayarın B şirketi tarafından üretilme olasılığı nedir?\n",
    "\n",
    "\n",
    "\n",
    "PA = 0.40\n",
    "PB = 0.40\n",
    "PC = 0.20\n",
    "\n",
    "PDA = 0.015\n",
    "PDB = 0.020\n",
    "PDC = 0.010\n",
    "\n",
    "PD = PA*PDA + PB*PDB + PC*PDC\n",
    "\n",
    "PBD = PB*PDB/ PD\n",
    "\n",
    "print(PD/PBD)\n"
   ]
  },
  {
   "cell_type": "code",
   "execution_count": 9,
   "metadata": {},
   "outputs": [
    {
     "data": {
      "text/html": [
       "<div>\n",
       "<style scoped>\n",
       "    .dataframe tbody tr th:only-of-type {\n",
       "        vertical-align: middle;\n",
       "    }\n",
       "\n",
       "    .dataframe tbody tr th {\n",
       "        vertical-align: top;\n",
       "    }\n",
       "\n",
       "    .dataframe thead th {\n",
       "        text-align: right;\n",
       "    }\n",
       "</style>\n",
       "<table border=\"1\" class=\"dataframe\">\n",
       "  <thead>\n",
       "    <tr style=\"text-align: right;\">\n",
       "      <th></th>\n",
       "      <th>Date</th>\n",
       "      <th>Open</th>\n",
       "      <th>High</th>\n",
       "      <th>Low</th>\n",
       "      <th>Close</th>\n",
       "      <th>Adj Close</th>\n",
       "      <th>Volume</th>\n",
       "    </tr>\n",
       "  </thead>\n",
       "  <tbody>\n",
       "    <tr>\n",
       "      <th>0</th>\n",
       "      <td>2017-01-03</td>\n",
       "      <td>778.809998</td>\n",
       "      <td>789.630005</td>\n",
       "      <td>775.799988</td>\n",
       "      <td>786.140015</td>\n",
       "      <td>786.140015</td>\n",
       "      <td>1657300</td>\n",
       "    </tr>\n",
       "    <tr>\n",
       "      <th>1</th>\n",
       "      <td>2017-01-04</td>\n",
       "      <td>788.359985</td>\n",
       "      <td>791.340027</td>\n",
       "      <td>783.159973</td>\n",
       "      <td>786.900024</td>\n",
       "      <td>786.900024</td>\n",
       "      <td>1073000</td>\n",
       "    </tr>\n",
       "    <tr>\n",
       "      <th>2</th>\n",
       "      <td>2017-01-05</td>\n",
       "      <td>786.080017</td>\n",
       "      <td>794.479980</td>\n",
       "      <td>785.020020</td>\n",
       "      <td>794.020020</td>\n",
       "      <td>794.020020</td>\n",
       "      <td>1335200</td>\n",
       "    </tr>\n",
       "    <tr>\n",
       "      <th>3</th>\n",
       "      <td>2017-01-06</td>\n",
       "      <td>795.260010</td>\n",
       "      <td>807.900024</td>\n",
       "      <td>792.203979</td>\n",
       "      <td>806.150024</td>\n",
       "      <td>806.150024</td>\n",
       "      <td>1640200</td>\n",
       "    </tr>\n",
       "    <tr>\n",
       "      <th>4</th>\n",
       "      <td>2017-01-09</td>\n",
       "      <td>806.400024</td>\n",
       "      <td>809.966003</td>\n",
       "      <td>802.830017</td>\n",
       "      <td>806.650024</td>\n",
       "      <td>806.650024</td>\n",
       "      <td>1274600</td>\n",
       "    </tr>\n",
       "  </tbody>\n",
       "</table>\n",
       "</div>"
      ],
      "text/plain": [
       "         Date        Open        High         Low       Close   Adj Close  \\\n",
       "0  2017-01-03  778.809998  789.630005  775.799988  786.140015  786.140015   \n",
       "1  2017-01-04  788.359985  791.340027  783.159973  786.900024  786.900024   \n",
       "2  2017-01-05  786.080017  794.479980  785.020020  794.020020  794.020020   \n",
       "3  2017-01-06  795.260010  807.900024  792.203979  806.150024  806.150024   \n",
       "4  2017-01-09  806.400024  809.966003  802.830017  806.650024  806.650024   \n",
       "\n",
       "    Volume  \n",
       "0  1657300  \n",
       "1  1073000  \n",
       "2  1335200  \n",
       "3  1640200  \n",
       "4  1274600  "
      ]
     },
     "execution_count": 9,
     "metadata": {},
     "output_type": "execute_result"
    }
   ],
   "source": [
    "#DAGILIMLAR ODEV2 BURDAN DEVAM ETMEK ZORUNDA KALDIM\n",
    "#Google 2017-2019 arası hisse senedi getirisi? dagilimi ne?\n",
    "\n",
    "df = pd.read_csv('./google.csv')\n",
    "df.head()\n",
    "\n"
   ]
  },
  {
   "cell_type": "code",
   "execution_count": 15,
   "metadata": {},
   "outputs": [
    {
     "name": "stdout",
     "output_type": "stream",
     "text": [
      "Income rate: % 73.58406010088225\n"
     ]
    }
   ],
   "source": [
    "#ilk acılıs\n",
    "pt_1 = df.Open[0]\n",
    "\n",
    "#son kapanıs\n",
    "pt = df.Close[751]\n",
    "\n",
    "#income rate = (pt-pt-1)/pt-1\n",
    "inc_rate = (pt - pt_1)/pt_1\n",
    "\n",
    "print('Income rate: %', inc_rate*100)\n",
    "\n",
    "#son kapanısı len kaparak sayısını hesapladım \n",
    "#ama close [-1] in calısmasını bekliyodum neden calısmadı?"
   ]
  },
  {
   "cell_type": "code",
   "execution_count": 16,
   "metadata": {},
   "outputs": [
    {
     "name": "stdout",
     "output_type": "stream",
     "text": [
      "0           NaN\n",
      "1      0.000967\n",
      "2      0.009048\n",
      "3      0.015277\n",
      "4      0.000620\n",
      "         ...   \n",
      "748   -0.000556\n",
      "749   -0.003914\n",
      "750    0.012534\n",
      "751   -0.006256\n",
      "752   -0.011650\n",
      "Name: Adj Close, Length: 753, dtype: float64\n"
     ]
    }
   ],
   "source": [
    "#senet getirisinin dağılımı ne?\n",
    "\n",
    "daily_close = df['Adj Close']\n",
    "daily_pct_change = daily_close.pct_change()\n",
    "print(daily_pct_change)\n",
    "\n"
   ]
  },
  {
   "cell_type": "code",
   "execution_count": 18,
   "metadata": {},
   "outputs": [
    {
     "data": {
      "image/png": "[encoded data removed]",
      "text/plain": [
       "<Figure size 432x288 with 1 Axes>"
      ]
     },
     "metadata": {
      "needs_background": "light"
     },
     "output_type": "display_data"
    }
   ],
   "source": [
    "daily_pct_change.hist(bins = 50)\n",
    "plt.show()\n",
    "#NORMAL DAGILIMA YAKIN GORUNUYOR AMA GRAFIGI NASIL YORUMLUYORUM?"
   ]
  },
  {
   "cell_type": "code",
   "execution_count": null,
   "metadata": {},
   "outputs": [],
   "source": []
  }
 ],
 "metadata": {
  "kernelspec": {
   "display_name": "Python 3",
   "language": "python",
   "name": "python3"
  },
  "language_info": {
   "codemirror_mode": {
    "name": "ipython",
    "version": 3
   },
   "file_extension": ".py",
   "mimetype": "text/x-python",
   "name": "python",
   "nbconvert_exporter": "python",
   "pygments_lexer": "ipython3",
   "version": "3.7.6"
  }
 },
 "nbformat": 4,
 "nbformat_minor": 4
}
